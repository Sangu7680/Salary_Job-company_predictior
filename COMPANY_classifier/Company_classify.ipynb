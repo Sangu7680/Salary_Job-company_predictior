{
 "cells": [
  {
   "cell_type": "code",
   "execution_count": 97,
   "id": "689c8d03",
   "metadata": {},
   "outputs": [],
   "source": [
    "import pandas as pd\n",
    "import numpy as np\n",
    "import matplotlib.pyplot as plt"
   ]
  },
  {
   "cell_type": "code",
   "execution_count": 98,
   "id": "c6e6117e",
   "metadata": {},
   "outputs": [],
   "source": [
    "df=pd.read_csv(\"Updated_Company_dataset.csv\")"
   ]
  },
  {
   "cell_type": "code",
   "execution_count": 99,
   "id": "30b4b1eb",
   "metadata": {},
   "outputs": [
    {
     "data": {
      "text/html": [
       "<div>\n",
       "<style scoped>\n",
       "    .dataframe tbody tr th:only-of-type {\n",
       "        vertical-align: middle;\n",
       "    }\n",
       "\n",
       "    .dataframe tbody tr th {\n",
       "        vertical-align: top;\n",
       "    }\n",
       "\n",
       "    .dataframe thead th {\n",
       "        text-align: right;\n",
       "    }\n",
       "</style>\n",
       "<table border=\"1\" class=\"dataframe\">\n",
       "  <thead>\n",
       "    <tr style=\"text-align: right;\">\n",
       "      <th></th>\n",
       "      <th>CGPA</th>\n",
       "      <th>Internship Type</th>\n",
       "      <th>Programming Language</th>\n",
       "      <th>Technology</th>\n",
       "      <th>Company</th>\n",
       "      <th>Job Role</th>\n",
       "    </tr>\n",
       "  </thead>\n",
       "  <tbody>\n",
       "    <tr>\n",
       "      <th>0</th>\n",
       "      <td>7.5</td>\n",
       "      <td>Cloud</td>\n",
       "      <td>Python</td>\n",
       "      <td>DevOps</td>\n",
       "      <td>Infosys</td>\n",
       "      <td>Cloud Engineer</td>\n",
       "    </tr>\n",
       "    <tr>\n",
       "      <th>1</th>\n",
       "      <td>9.8</td>\n",
       "      <td>Software Dev</td>\n",
       "      <td>C#</td>\n",
       "      <td>DBMS</td>\n",
       "      <td>Amazon</td>\n",
       "      <td>Software Developer</td>\n",
       "    </tr>\n",
       "    <tr>\n",
       "      <th>2</th>\n",
       "      <td>8.9</td>\n",
       "      <td>Cybersecurity</td>\n",
       "      <td>C++</td>\n",
       "      <td>AI</td>\n",
       "      <td>TCS</td>\n",
       "      <td>Cybersecurity Engineer</td>\n",
       "    </tr>\n",
       "    <tr>\n",
       "      <th>3</th>\n",
       "      <td>8.4</td>\n",
       "      <td>AIML</td>\n",
       "      <td>Java</td>\n",
       "      <td>AI</td>\n",
       "      <td>Oracle</td>\n",
       "      <td>Data Scientist</td>\n",
       "    </tr>\n",
       "    <tr>\n",
       "      <th>4</th>\n",
       "      <td>6.6</td>\n",
       "      <td>Cybersecurity</td>\n",
       "      <td>Rust</td>\n",
       "      <td>Front End</td>\n",
       "      <td>NIIT Technologies</td>\n",
       "      <td>Cloud Engineer</td>\n",
       "    </tr>\n",
       "    <tr>\n",
       "      <th>5</th>\n",
       "      <td>6.6</td>\n",
       "      <td>Software Dev</td>\n",
       "      <td>Java</td>\n",
       "      <td>Big Data</td>\n",
       "      <td>NIIT Technologies</td>\n",
       "      <td>Software Developer</td>\n",
       "    </tr>\n",
       "    <tr>\n",
       "      <th>6</th>\n",
       "      <td>6.2</td>\n",
       "      <td>Software Dev</td>\n",
       "      <td>Java</td>\n",
       "      <td>Backend</td>\n",
       "      <td>Mphasis</td>\n",
       "      <td>Software Developer</td>\n",
       "    </tr>\n",
       "    <tr>\n",
       "      <th>7</th>\n",
       "      <td>9.5</td>\n",
       "      <td>AIML</td>\n",
       "      <td>Java</td>\n",
       "      <td>AI</td>\n",
       "      <td>Apple</td>\n",
       "      <td>Data Scientist</td>\n",
       "    </tr>\n",
       "    <tr>\n",
       "      <th>8</th>\n",
       "      <td>8.4</td>\n",
       "      <td>DevOps</td>\n",
       "      <td>TypeScript</td>\n",
       "      <td>Backend</td>\n",
       "      <td>Infosys</td>\n",
       "      <td>System Engineer</td>\n",
       "    </tr>\n",
       "    <tr>\n",
       "      <th>9</th>\n",
       "      <td>8.8</td>\n",
       "      <td>Software Dev</td>\n",
       "      <td>Python</td>\n",
       "      <td>Data Analytics</td>\n",
       "      <td>SAP</td>\n",
       "      <td>System Engineer</td>\n",
       "    </tr>\n",
       "  </tbody>\n",
       "</table>\n",
       "</div>"
      ],
      "text/plain": [
       "   CGPA Internship Type Programming Language      Technology  \\\n",
       "0   7.5           Cloud               Python          DevOps   \n",
       "1   9.8    Software Dev                   C#            DBMS   \n",
       "2   8.9   Cybersecurity                  C++              AI   \n",
       "3   8.4            AIML                 Java              AI   \n",
       "4   6.6   Cybersecurity                 Rust       Front End   \n",
       "5   6.6    Software Dev                 Java        Big Data   \n",
       "6   6.2    Software Dev                 Java         Backend   \n",
       "7   9.5            AIML                 Java              AI   \n",
       "8   8.4          DevOps           TypeScript         Backend   \n",
       "9   8.8    Software Dev               Python  Data Analytics   \n",
       "\n",
       "             Company                Job Role  \n",
       "0            Infosys          Cloud Engineer  \n",
       "1             Amazon      Software Developer  \n",
       "2                TCS  Cybersecurity Engineer  \n",
       "3             Oracle          Data Scientist  \n",
       "4  NIIT Technologies          Cloud Engineer  \n",
       "5  NIIT Technologies      Software Developer  \n",
       "6            Mphasis      Software Developer  \n",
       "7              Apple          Data Scientist  \n",
       "8            Infosys         System Engineer  \n",
       "9                SAP         System Engineer  "
      ]
     },
     "execution_count": 99,
     "metadata": {},
     "output_type": "execute_result"
    }
   ],
   "source": [
    "df.head(10)"
   ]
  },
  {
   "cell_type": "code",
   "execution_count": 100,
   "id": "2e2aae21",
   "metadata": {},
   "outputs": [
    {
     "data": {
      "text/html": [
       "<div>\n",
       "<style scoped>\n",
       "    .dataframe tbody tr th:only-of-type {\n",
       "        vertical-align: middle;\n",
       "    }\n",
       "\n",
       "    .dataframe tbody tr th {\n",
       "        vertical-align: top;\n",
       "    }\n",
       "\n",
       "    .dataframe thead th {\n",
       "        text-align: right;\n",
       "    }\n",
       "</style>\n",
       "<table border=\"1\" class=\"dataframe\">\n",
       "  <thead>\n",
       "    <tr style=\"text-align: right;\">\n",
       "      <th></th>\n",
       "      <th>CGPA</th>\n",
       "      <th>Internship Type</th>\n",
       "      <th>Programming Language</th>\n",
       "      <th>Technology</th>\n",
       "      <th>Company</th>\n",
       "      <th>Job Role</th>\n",
       "    </tr>\n",
       "  </thead>\n",
       "  <tbody>\n",
       "    <tr>\n",
       "      <th>4511</th>\n",
       "      <td>7.32</td>\n",
       "      <td>Cloud</td>\n",
       "      <td>Go</td>\n",
       "      <td>DBMS</td>\n",
       "      <td>HCL</td>\n",
       "      <td>Cybersecurity Engineer</td>\n",
       "    </tr>\n",
       "    <tr>\n",
       "      <th>4512</th>\n",
       "      <td>9.86</td>\n",
       "      <td>Software Dev</td>\n",
       "      <td>R</td>\n",
       "      <td>Data Analytics</td>\n",
       "      <td>Amazon</td>\n",
       "      <td>DevOps Engineer</td>\n",
       "    </tr>\n",
       "    <tr>\n",
       "      <th>4513</th>\n",
       "      <td>6.47</td>\n",
       "      <td>Cloud</td>\n",
       "      <td>C#</td>\n",
       "      <td>AI</td>\n",
       "      <td>Mphasis</td>\n",
       "      <td>AI Engineer</td>\n",
       "    </tr>\n",
       "    <tr>\n",
       "      <th>4514</th>\n",
       "      <td>6.36</td>\n",
       "      <td>Cloud</td>\n",
       "      <td>JavaScript</td>\n",
       "      <td>AI</td>\n",
       "      <td>Mphasis</td>\n",
       "      <td>Cybersecurity Engineer</td>\n",
       "    </tr>\n",
       "    <tr>\n",
       "      <th>4515</th>\n",
       "      <td>7.54</td>\n",
       "      <td>Cloud</td>\n",
       "      <td>SQL</td>\n",
       "      <td>Big Data</td>\n",
       "      <td>HCL</td>\n",
       "      <td>System Engineer</td>\n",
       "    </tr>\n",
       "    <tr>\n",
       "      <th>4516</th>\n",
       "      <td>8.66</td>\n",
       "      <td>Web Dev</td>\n",
       "      <td>JavaScript</td>\n",
       "      <td>Data Analytics</td>\n",
       "      <td>Microsoft</td>\n",
       "      <td>Data Analyst</td>\n",
       "    </tr>\n",
       "    <tr>\n",
       "      <th>4517</th>\n",
       "      <td>6.82</td>\n",
       "      <td>AIML</td>\n",
       "      <td>C++</td>\n",
       "      <td>DevOps</td>\n",
       "      <td>Wipro</td>\n",
       "      <td>System Engineer</td>\n",
       "    </tr>\n",
       "    <tr>\n",
       "      <th>4518</th>\n",
       "      <td>6.12</td>\n",
       "      <td>Software Dev</td>\n",
       "      <td>Java</td>\n",
       "      <td>Backend</td>\n",
       "      <td>Mindtree</td>\n",
       "      <td>Software Developer</td>\n",
       "    </tr>\n",
       "    <tr>\n",
       "      <th>4519</th>\n",
       "      <td>9.66</td>\n",
       "      <td>Cloud</td>\n",
       "      <td>Rust</td>\n",
       "      <td>Cloud Computing</td>\n",
       "      <td>Google</td>\n",
       "      <td>System Engineer</td>\n",
       "    </tr>\n",
       "    <tr>\n",
       "      <th>4520</th>\n",
       "      <td>6.19</td>\n",
       "      <td>Web Dev</td>\n",
       "      <td>Go</td>\n",
       "      <td>Cloud Computing</td>\n",
       "      <td>Mphasis</td>\n",
       "      <td>Cloud Engineer</td>\n",
       "    </tr>\n",
       "  </tbody>\n",
       "</table>\n",
       "</div>"
      ],
      "text/plain": [
       "      CGPA Internship Type Programming Language       Technology    Company  \\\n",
       "4511  7.32           Cloud                   Go             DBMS        HCL   \n",
       "4512  9.86    Software Dev                    R   Data Analytics     Amazon   \n",
       "4513  6.47           Cloud                   C#               AI    Mphasis   \n",
       "4514  6.36           Cloud           JavaScript               AI    Mphasis   \n",
       "4515  7.54           Cloud                  SQL         Big Data        HCL   \n",
       "4516  8.66         Web Dev           JavaScript   Data Analytics  Microsoft   \n",
       "4517  6.82            AIML                  C++           DevOps      Wipro   \n",
       "4518  6.12    Software Dev                 Java          Backend   Mindtree   \n",
       "4519  9.66           Cloud                 Rust  Cloud Computing     Google   \n",
       "4520  6.19         Web Dev                   Go  Cloud Computing    Mphasis   \n",
       "\n",
       "                    Job Role  \n",
       "4511  Cybersecurity Engineer  \n",
       "4512         DevOps Engineer  \n",
       "4513             AI Engineer  \n",
       "4514  Cybersecurity Engineer  \n",
       "4515         System Engineer  \n",
       "4516            Data Analyst  \n",
       "4517         System Engineer  \n",
       "4518      Software Developer  \n",
       "4519         System Engineer  \n",
       "4520          Cloud Engineer  "
      ]
     },
     "execution_count": 100,
     "metadata": {},
     "output_type": "execute_result"
    }
   ],
   "source": [
    "df.tail(10)"
   ]
  },
  {
   "cell_type": "code",
   "execution_count": 101,
   "id": "fece2e53",
   "metadata": {},
   "outputs": [
    {
     "data": {
      "text/plain": [
       "Index(['CGPA', 'Internship Type', 'Programming Language', 'Technology',\n",
       "       'Company', 'Job Role'],\n",
       "      dtype='object')"
      ]
     },
     "execution_count": 101,
     "metadata": {},
     "output_type": "execute_result"
    }
   ],
   "source": [
    "df.columns"
   ]
  },
  {
   "cell_type": "code",
   "execution_count": 102,
   "id": "c3f5c3cd",
   "metadata": {},
   "outputs": [
    {
     "data": {
      "text/plain": [
       "(4521, 6)"
      ]
     },
     "execution_count": 102,
     "metadata": {},
     "output_type": "execute_result"
    }
   ],
   "source": [
    "df.shape"
   ]
  },
  {
   "cell_type": "code",
   "execution_count": 103,
   "id": "5ee9c49d",
   "metadata": {},
   "outputs": [
    {
     "name": "stdout",
     "output_type": "stream",
     "text": [
      "<class 'pandas.core.frame.DataFrame'>\n",
      "RangeIndex: 4521 entries, 0 to 4520\n",
      "Data columns (total 6 columns):\n",
      " #   Column                Non-Null Count  Dtype  \n",
      "---  ------                --------------  -----  \n",
      " 0   CGPA                  4521 non-null   float64\n",
      " 1   Internship Type       4520 non-null   object \n",
      " 2   Programming Language  4520 non-null   object \n",
      " 3   Technology            4520 non-null   object \n",
      " 4   Company               4520 non-null   object \n",
      " 5   Job Role              4520 non-null   object \n",
      "dtypes: float64(1), object(5)\n",
      "memory usage: 212.1+ KB\n"
     ]
    }
   ],
   "source": [
    "df.info()"
   ]
  },
  {
   "cell_type": "code",
   "execution_count": 104,
   "id": "ac32d8fd",
   "metadata": {},
   "outputs": [
    {
     "data": {
      "text/plain": [
       "CGPA                    0\n",
       "Internship Type         1\n",
       "Programming Language    1\n",
       "Technology              1\n",
       "Company                 1\n",
       "Job Role                1\n",
       "dtype: int64"
      ]
     },
     "execution_count": 104,
     "metadata": {},
     "output_type": "execute_result"
    }
   ],
   "source": [
    "df.isnull().sum()"
   ]
  },
  {
   "cell_type": "code",
   "execution_count": 105,
   "id": "39e5bbaf",
   "metadata": {},
   "outputs": [],
   "source": [
    "df.dropna(inplace=True)"
   ]
  },
  {
   "cell_type": "code",
   "execution_count": 106,
   "id": "161b783e",
   "metadata": {},
   "outputs": [
    {
     "data": {
      "text/html": [
       "<div>\n",
       "<style scoped>\n",
       "    .dataframe tbody tr th:only-of-type {\n",
       "        vertical-align: middle;\n",
       "    }\n",
       "\n",
       "    .dataframe tbody tr th {\n",
       "        vertical-align: top;\n",
       "    }\n",
       "\n",
       "    .dataframe thead th {\n",
       "        text-align: right;\n",
       "    }\n",
       "</style>\n",
       "<table border=\"1\" class=\"dataframe\">\n",
       "  <thead>\n",
       "    <tr style=\"text-align: right;\">\n",
       "      <th></th>\n",
       "      <th>CGPA</th>\n",
       "      <th>Internship Type</th>\n",
       "      <th>Programming Language</th>\n",
       "      <th>Technology</th>\n",
       "      <th>Company</th>\n",
       "      <th>Job Role</th>\n",
       "    </tr>\n",
       "  </thead>\n",
       "  <tbody>\n",
       "    <tr>\n",
       "      <th>0</th>\n",
       "      <td>7.50</td>\n",
       "      <td>Cloud</td>\n",
       "      <td>Python</td>\n",
       "      <td>DevOps</td>\n",
       "      <td>Infosys</td>\n",
       "      <td>Cloud Engineer</td>\n",
       "    </tr>\n",
       "    <tr>\n",
       "      <th>1</th>\n",
       "      <td>9.80</td>\n",
       "      <td>Software Dev</td>\n",
       "      <td>C#</td>\n",
       "      <td>DBMS</td>\n",
       "      <td>Amazon</td>\n",
       "      <td>Software Developer</td>\n",
       "    </tr>\n",
       "    <tr>\n",
       "      <th>2</th>\n",
       "      <td>8.90</td>\n",
       "      <td>Cybersecurity</td>\n",
       "      <td>C++</td>\n",
       "      <td>AI</td>\n",
       "      <td>TCS</td>\n",
       "      <td>Cybersecurity Engineer</td>\n",
       "    </tr>\n",
       "    <tr>\n",
       "      <th>3</th>\n",
       "      <td>8.40</td>\n",
       "      <td>AIML</td>\n",
       "      <td>Java</td>\n",
       "      <td>AI</td>\n",
       "      <td>Oracle</td>\n",
       "      <td>Data Scientist</td>\n",
       "    </tr>\n",
       "    <tr>\n",
       "      <th>4</th>\n",
       "      <td>6.60</td>\n",
       "      <td>Cybersecurity</td>\n",
       "      <td>Rust</td>\n",
       "      <td>Front End</td>\n",
       "      <td>NIIT Technologies</td>\n",
       "      <td>Cloud Engineer</td>\n",
       "    </tr>\n",
       "    <tr>\n",
       "      <th>...</th>\n",
       "      <td>...</td>\n",
       "      <td>...</td>\n",
       "      <td>...</td>\n",
       "      <td>...</td>\n",
       "      <td>...</td>\n",
       "      <td>...</td>\n",
       "    </tr>\n",
       "    <tr>\n",
       "      <th>4516</th>\n",
       "      <td>8.66</td>\n",
       "      <td>Web Dev</td>\n",
       "      <td>JavaScript</td>\n",
       "      <td>Data Analytics</td>\n",
       "      <td>Microsoft</td>\n",
       "      <td>Data Analyst</td>\n",
       "    </tr>\n",
       "    <tr>\n",
       "      <th>4517</th>\n",
       "      <td>6.82</td>\n",
       "      <td>AIML</td>\n",
       "      <td>C++</td>\n",
       "      <td>DevOps</td>\n",
       "      <td>Wipro</td>\n",
       "      <td>System Engineer</td>\n",
       "    </tr>\n",
       "    <tr>\n",
       "      <th>4518</th>\n",
       "      <td>6.12</td>\n",
       "      <td>Software Dev</td>\n",
       "      <td>Java</td>\n",
       "      <td>Backend</td>\n",
       "      <td>Mindtree</td>\n",
       "      <td>Software Developer</td>\n",
       "    </tr>\n",
       "    <tr>\n",
       "      <th>4519</th>\n",
       "      <td>9.66</td>\n",
       "      <td>Cloud</td>\n",
       "      <td>Rust</td>\n",
       "      <td>Cloud Computing</td>\n",
       "      <td>Google</td>\n",
       "      <td>System Engineer</td>\n",
       "    </tr>\n",
       "    <tr>\n",
       "      <th>4520</th>\n",
       "      <td>6.19</td>\n",
       "      <td>Web Dev</td>\n",
       "      <td>Go</td>\n",
       "      <td>Cloud Computing</td>\n",
       "      <td>Mphasis</td>\n",
       "      <td>Cloud Engineer</td>\n",
       "    </tr>\n",
       "  </tbody>\n",
       "</table>\n",
       "<p>4520 rows × 6 columns</p>\n",
       "</div>"
      ],
      "text/plain": [
       "      CGPA Internship Type Programming Language       Technology  \\\n",
       "0     7.50           Cloud               Python           DevOps   \n",
       "1     9.80    Software Dev                   C#             DBMS   \n",
       "2     8.90   Cybersecurity                  C++               AI   \n",
       "3     8.40            AIML                 Java               AI   \n",
       "4     6.60   Cybersecurity                 Rust        Front End   \n",
       "...    ...             ...                  ...              ...   \n",
       "4516  8.66         Web Dev           JavaScript   Data Analytics   \n",
       "4517  6.82            AIML                  C++           DevOps   \n",
       "4518  6.12    Software Dev                 Java          Backend   \n",
       "4519  9.66           Cloud                 Rust  Cloud Computing   \n",
       "4520  6.19         Web Dev                   Go  Cloud Computing   \n",
       "\n",
       "                Company                Job Role  \n",
       "0               Infosys          Cloud Engineer  \n",
       "1                Amazon      Software Developer  \n",
       "2                   TCS  Cybersecurity Engineer  \n",
       "3                Oracle          Data Scientist  \n",
       "4     NIIT Technologies          Cloud Engineer  \n",
       "...                 ...                     ...  \n",
       "4516          Microsoft            Data Analyst  \n",
       "4517              Wipro         System Engineer  \n",
       "4518           Mindtree      Software Developer  \n",
       "4519             Google         System Engineer  \n",
       "4520            Mphasis          Cloud Engineer  \n",
       "\n",
       "[4520 rows x 6 columns]"
      ]
     },
     "execution_count": 106,
     "metadata": {},
     "output_type": "execute_result"
    }
   ],
   "source": [
    "df"
   ]
  },
  {
   "cell_type": "code",
   "execution_count": 107,
   "id": "20ae0a91",
   "metadata": {},
   "outputs": [
    {
     "data": {
      "text/plain": [
       "212"
      ]
     },
     "execution_count": 107,
     "metadata": {},
     "output_type": "execute_result"
    }
   ],
   "source": [
    "df.duplicated().sum()"
   ]
  },
  {
   "cell_type": "code",
   "execution_count": 108,
   "id": "195cc760",
   "metadata": {},
   "outputs": [
    {
     "data": {
      "text/plain": [
       "0"
      ]
     },
     "execution_count": 108,
     "metadata": {},
     "output_type": "execute_result"
    }
   ],
   "source": [
    "df=df.drop_duplicates()\n",
    "df.duplicated().sum()"
   ]
  },
  {
   "cell_type": "code",
   "execution_count": 109,
   "id": "556cbfb2",
   "metadata": {},
   "outputs": [
    {
     "data": {
      "text/plain": [
       "Company\n",
       "Infosys              322\n",
       "IBM                  294\n",
       "HCL                  271\n",
       "TCS                  268\n",
       "Birlasoft            244\n",
       "Mindtree             242\n",
       "Mphasis              242\n",
       "NIIT Technologies    223\n",
       "Capgemini            217\n",
       "OpenAI               193\n",
       "SAP                  191\n",
       "Cognizant            190\n",
       "Wipro                185\n",
       "Apple                182\n",
       "Amazon               181\n",
       "Oracle               177\n",
       "NVIDIA               176\n",
       "Tech Mahindra        175\n",
       "Google               169\n",
       "Microsoft            166\n",
       "Name: count, dtype: int64"
      ]
     },
     "execution_count": 109,
     "metadata": {},
     "output_type": "execute_result"
    }
   ],
   "source": [
    "df[\"Internship Type\"].value_counts()\n",
    "df[\"Programming Language\"].value_counts()\n",
    "df[\"Job Role\"].value_counts()\n",
    "df[\"Company\"].value_counts()\n",
    "# df[\"Technology\"].value_counts()"
   ]
  },
  {
   "cell_type": "code",
   "execution_count": 110,
   "id": "e196ad36",
   "metadata": {},
   "outputs": [
    {
     "data": {
      "text/plain": [
       "array(['Infosys', 'Amazon', 'TCS', 'Oracle', 'NIIT Technologies',\n",
       "       'Mphasis', 'Apple', 'SAP', 'Birlasoft', 'OpenAI', 'NVIDIA',\n",
       "       'Mindtree', 'Capgemini', 'Wipro', 'Tech Mahindra', 'Cognizant',\n",
       "       'Google', 'Microsoft', 'HCL', 'IBM'], dtype=object)"
      ]
     },
     "execution_count": 110,
     "metadata": {},
     "output_type": "execute_result"
    }
   ],
   "source": [
    "df[\"Company\"].unique()"
   ]
  },
  {
   "cell_type": "code",
   "execution_count": 111,
   "id": "a21ea2c3",
   "metadata": {},
   "outputs": [
    {
     "data": {
      "text/html": [
       "<div>\n",
       "<style scoped>\n",
       "    .dataframe tbody tr th:only-of-type {\n",
       "        vertical-align: middle;\n",
       "    }\n",
       "\n",
       "    .dataframe tbody tr th {\n",
       "        vertical-align: top;\n",
       "    }\n",
       "\n",
       "    .dataframe thead th {\n",
       "        text-align: right;\n",
       "    }\n",
       "</style>\n",
       "<table border=\"1\" class=\"dataframe\">\n",
       "  <thead>\n",
       "    <tr style=\"text-align: right;\">\n",
       "      <th></th>\n",
       "      <th>CGPA</th>\n",
       "    </tr>\n",
       "  </thead>\n",
       "  <tbody>\n",
       "    <tr>\n",
       "      <th>count</th>\n",
       "      <td>4308.000000</td>\n",
       "    </tr>\n",
       "    <tr>\n",
       "      <th>mean</th>\n",
       "      <td>8.010757</td>\n",
       "    </tr>\n",
       "    <tr>\n",
       "      <th>std</th>\n",
       "      <td>1.156983</td>\n",
       "    </tr>\n",
       "    <tr>\n",
       "      <th>min</th>\n",
       "      <td>6.000000</td>\n",
       "    </tr>\n",
       "    <tr>\n",
       "      <th>25%</th>\n",
       "      <td>7.000000</td>\n",
       "    </tr>\n",
       "    <tr>\n",
       "      <th>50%</th>\n",
       "      <td>8.000000</td>\n",
       "    </tr>\n",
       "    <tr>\n",
       "      <th>75%</th>\n",
       "      <td>9.000000</td>\n",
       "    </tr>\n",
       "    <tr>\n",
       "      <th>max</th>\n",
       "      <td>10.000000</td>\n",
       "    </tr>\n",
       "  </tbody>\n",
       "</table>\n",
       "</div>"
      ],
      "text/plain": [
       "              CGPA\n",
       "count  4308.000000\n",
       "mean      8.010757\n",
       "std       1.156983\n",
       "min       6.000000\n",
       "25%       7.000000\n",
       "50%       8.000000\n",
       "75%       9.000000\n",
       "max      10.000000"
      ]
     },
     "execution_count": 111,
     "metadata": {},
     "output_type": "execute_result"
    }
   ],
   "source": [
    "df.describe()"
   ]
  },
  {
   "cell_type": "code",
   "execution_count": 112,
   "id": "8f8e1097",
   "metadata": {},
   "outputs": [
    {
     "name": "stdout",
     "output_type": "stream",
     "text": [
      "<class 'pandas.core.frame.DataFrame'>\n",
      "Index: 4308 entries, 0 to 4520\n",
      "Data columns (total 29 columns):\n",
      " #   Column                           Non-Null Count  Dtype  \n",
      "---  ------                           --------------  -----  \n",
      " 0   CGPA                             4308 non-null   float64\n",
      " 1   Company                          4308 non-null   object \n",
      " 2   Job Role                         4308 non-null   object \n",
      " 3   Internship Type_AIML             4308 non-null   bool   \n",
      " 4   Internship Type_Cloud            4308 non-null   bool   \n",
      " 5   Internship Type_Cybersecurity    4308 non-null   bool   \n",
      " 6   Internship Type_DevOps           4308 non-null   bool   \n",
      " 7   Internship Type_Software Dev     4308 non-null   bool   \n",
      " 8   Internship Type_Web Dev          4308 non-null   bool   \n",
      " 9   Programming Language_C#          4308 non-null   bool   \n",
      " 10  Programming Language_C++         4308 non-null   bool   \n",
      " 11  Programming Language_Go          4308 non-null   bool   \n",
      " 12  Programming Language_Java        4308 non-null   bool   \n",
      " 13  Programming Language_JavaScript  4308 non-null   bool   \n",
      " 14  Programming Language_Python      4308 non-null   bool   \n",
      " 15  Programming Language_R           4308 non-null   bool   \n",
      " 16  Programming Language_Rust        4308 non-null   bool   \n",
      " 17  Programming Language_SQL         4308 non-null   bool   \n",
      " 18  Programming Language_TypeScript  4308 non-null   bool   \n",
      " 19  Technology_AI                    4308 non-null   bool   \n",
      " 20  Technology_Backend               4308 non-null   bool   \n",
      " 21  Technology_Big Data              4308 non-null   bool   \n",
      " 22  Technology_Cloud Computing       4308 non-null   bool   \n",
      " 23  Technology_Cybersecurity         4308 non-null   bool   \n",
      " 24  Technology_DBMS                  4308 non-null   bool   \n",
      " 25  Technology_Data Analytics        4308 non-null   bool   \n",
      " 26  Technology_DevOps                4308 non-null   bool   \n",
      " 27  Technology_Front End             4308 non-null   bool   \n",
      " 28  Technology_ML                    4308 non-null   bool   \n",
      "dtypes: bool(26), float64(1), object(2)\n",
      "memory usage: 244.0+ KB\n"
     ]
    }
   ],
   "source": [
    "df=pd.get_dummies(df,columns=[\"Internship Type\",\"Programming Language\",\"Technology\"])#.astype(int)\n",
    "df\n",
    "df.info()"
   ]
  },
  {
   "cell_type": "code",
   "execution_count": 113,
   "id": "cd846a02",
   "metadata": {},
   "outputs": [],
   "source": [
    "df= df.astype({col: int for col in df.columns if df[col].dtype == 'bool'})\n"
   ]
  },
  {
   "cell_type": "code",
   "execution_count": 114,
   "id": "1d57e5d1",
   "metadata": {},
   "outputs": [],
   "source": [
    "from sklearn.preprocessing import LabelEncoder"
   ]
  },
  {
   "cell_type": "code",
   "execution_count": 115,
   "id": "ee5ee1d3",
   "metadata": {},
   "outputs": [],
   "source": [
    "Job_label=LabelEncoder()\n",
    "Company_label=LabelEncoder()\n",
    "df[\"Job Role\"]=Job_label.fit_transform(df[\"Job Role\"])\n",
    "df[\"Company\"]=Company_label.fit_transform(df[\"Company\"])\n",
    "# df"
   ]
  },
  {
   "cell_type": "code",
   "execution_count": 116,
   "id": "75d49b59",
   "metadata": {},
   "outputs": [
    {
     "name": "stdout",
     "output_type": "stream",
     "text": [
      "0: AI Engineer\n",
      "1: Cloud Engineer\n",
      "2: Cybersecurity Engineer\n",
      "3: Data Analyst\n",
      "4: Data Scientist\n",
      "5: DevOps Engineer\n",
      "6: Software Developer\n",
      "7: System Engineer\n",
      "8: Web Developer\n"
     ]
    }
   ],
   "source": [
    "for index, class_label in enumerate(Job_label.classes_):\n",
    "    print(f\"{index}: {class_label}\")\n"
   ]
  },
  {
   "cell_type": "code",
   "execution_count": 117,
   "id": "b2b00fbb",
   "metadata": {},
   "outputs": [
    {
     "name": "stdout",
     "output_type": "stream",
     "text": [
      "0: Amazon\n",
      "1: Apple\n",
      "2: Birlasoft\n",
      "3: Capgemini\n",
      "4: Cognizant\n",
      "5: Google\n",
      "6: HCL\n",
      "7: IBM\n",
      "8: Infosys\n",
      "9: Microsoft\n",
      "10: Mindtree\n",
      "11: Mphasis\n",
      "12: NIIT Technologies\n",
      "13: NVIDIA\n",
      "14: OpenAI\n",
      "15: Oracle\n",
      "16: SAP\n",
      "17: TCS\n",
      "18: Tech Mahindra\n",
      "19: Wipro\n"
     ]
    }
   ],
   "source": [
    "for index, class_label in enumerate(Company_label.classes_):\n",
    "    print(f\"{index}: {class_label}\")\n"
   ]
  },
  {
   "cell_type": "code",
   "execution_count": 118,
   "id": "ab1479b5",
   "metadata": {},
   "outputs": [],
   "source": [
    "x=df.drop([\"Company\"],axis=1)\n",
    "y=df[\"Company\"]"
   ]
  },
  {
   "cell_type": "code",
   "execution_count": 119,
   "id": "f2ce75d3",
   "metadata": {},
   "outputs": [
    {
     "data": {
      "text/plain": [
       "Index(['CGPA', 'Job Role', 'Internship Type_AIML', 'Internship Type_Cloud',\n",
       "       'Internship Type_Cybersecurity', 'Internship Type_DevOps',\n",
       "       'Internship Type_Software Dev', 'Internship Type_Web Dev',\n",
       "       'Programming Language_C#', 'Programming Language_C++',\n",
       "       'Programming Language_Go', 'Programming Language_Java',\n",
       "       'Programming Language_JavaScript', 'Programming Language_Python',\n",
       "       'Programming Language_R', 'Programming Language_Rust',\n",
       "       'Programming Language_SQL', 'Programming Language_TypeScript',\n",
       "       'Technology_AI', 'Technology_Backend', 'Technology_Big Data',\n",
       "       'Technology_Cloud Computing', 'Technology_Cybersecurity',\n",
       "       'Technology_DBMS', 'Technology_Data Analytics', 'Technology_DevOps',\n",
       "       'Technology_Front End', 'Technology_ML'],\n",
       "      dtype='object')"
      ]
     },
     "execution_count": 119,
     "metadata": {},
     "output_type": "execute_result"
    }
   ],
   "source": [
    "x.columns"
   ]
  },
  {
   "cell_type": "code",
   "execution_count": 120,
   "id": "9f5e695b",
   "metadata": {},
   "outputs": [],
   "source": [
    "from sklearn.model_selection import train_test_split"
   ]
  },
  {
   "cell_type": "code",
   "execution_count": 121,
   "id": "3108b89c",
   "metadata": {},
   "outputs": [],
   "source": [
    "x_train,x_test,y_train,y_test=train_test_split(x,y,test_size=0.2,random_state=42)"
   ]
  },
  {
   "cell_type": "code",
   "execution_count": 122,
   "id": "9567ec4e",
   "metadata": {},
   "outputs": [
    {
     "name": "stdout",
     "output_type": "stream",
     "text": [
      "Train Score: 0.6218804410911202\n",
      "Test Score: 0.1357308584686775\n"
     ]
    }
   ],
   "source": [
    "from sklearn.ensemble import RandomForestClassifier\n",
    "Company_model= RandomForestClassifier(max_depth=9,n_estimators=100)\n",
    "Company_model.fit(x_train, y_train)\n",
    "\n",
    "print(\"Train Score:\", Company_model.score(x_train, y_train))\n",
    "print(\"Test Score:\", Company_model.score(x_test, y_test))\n"
   ]
  },
  {
   "cell_type": "code",
   "execution_count": 123,
   "id": "58988246",
   "metadata": {},
   "outputs": [],
   "source": [
    "# from sklearn.metrics import classification_report, accuracy_score\n",
    "\n",
    "# y_pred_train = Company_model.predict(x_train)\n",
    "# y_pred_test = Company_model.predict(x_test)\n",
    "\n",
    "# print(\"Train Accuracy:\", accuracy_score(y_train, y_pred_train))\n",
    "# print(\"Test Accuracy:\", accuracy_score(y_test, y_pred_test))\n",
    "# print(\"\\nClassification Report on Test Data:\")\n",
    "# print(classification_report(y_test, y_pred_test))"
   ]
  },
  {
   "cell_type": "code",
   "execution_count": 124,
   "id": "22cbc818",
   "metadata": {},
   "outputs": [],
   "source": [
    "import numpy as np\n",
    "\n",
    "def predict_top_companies(model, input_data, label_encoder, top_n=3):\n",
    "    \"\"\"\n",
    "    Predicts the top N likely companies for the given input_data using the trained model.\n",
    "\n",
    "    Parameters:\n",
    "    - model: Trained classifier (e.g., RandomForestClassifier)\n",
    "    - input_data: A single user input as a DataFrame with same feature format as training data\n",
    "    - label_encoder: The LabelEncoder used to encode company labels\n",
    "    - top_n: Number of top predictions to return (default = 3)\n",
    "\n",
    "    Returns:\n",
    "    - A list of top N predicted company names with their probabilities\n",
    "    \"\"\"\n",
    "\n",
    "    # Get probability predictions for all companies\n",
    "    probas = model.predict_proba(input_data)[0]\n",
    "\n",
    "    # Get indices of top N probabilities\n",
    "    top_indices = np.argsort(probas)[::-1][:top_n]\n",
    "\n",
    "    # Decode company names using the label encoder\n",
    "    top_companies = label_encoder.inverse_transform(top_indices)\n",
    "\n",
    "    # Get top probabilities\n",
    "    top_probs = probas[top_indices]\n",
    "\n",
    "    # Combine results\n",
    "    results = [(company, round(prob, 3)) for company, prob in zip(top_companies, top_probs)]\n",
    "\n",
    "    return results\n"
   ]
  },
  {
   "cell_type": "code",
   "execution_count": 125,
   "id": "fe80c207",
   "metadata": {},
   "outputs": [],
   "source": [
    "#x.columns"
   ]
  },
  {
   "cell_type": "code",
   "execution_count": 126,
   "id": "d9185727",
   "metadata": {},
   "outputs": [
    {
     "name": "stdout",
     "output_type": "stream",
     "text": [
      "Top 1: NVIDIA (Probability: 0.165)\n",
      "Top 2: IBM (Probability: 0.113)\n",
      "Top 3: Apple (Probability: 0.105)\n"
     ]
    }
   ],
   "source": [
    "\n",
    "# Define feature columns\n",
    "feature_columns = [\n",
    "    'CGPA', 'Job Role', 'Internship Type_AIML', 'Internship Type_Cloud', 'Internship Type_Cybersecurity',\n",
    "    'Internship Type_DevOps', 'Internship Type_Software Dev', 'Internship Type_Web Dev', \n",
    "    'Programming Language_C#', 'Programming Language_C++', 'Programming Language_Go', 'Programming Language_Java',\n",
    "    'Programming Language_JavaScript', 'Programming Language_Python', 'Programming Language_R', 'Programming Language_Rust',\n",
    "    'Programming Language_SQL', 'Programming Language_TypeScript', 'Technology_AI', 'Technology_Backend',\n",
    "    'Technology_Big Data', 'Technology_Cloud Computing', 'Technology_Cybersecurity', 'Technology_DBMS',\n",
    "    'Technology_Data Analytics', 'Technology_DevOps', 'Technology_Front End', 'Technology_ML'\n",
    "]\n",
    "\n",
    "# Prepare the input data\n",
    "# Example row where the features are provided as 1s and 0s indicating presence of skills and internships\n",
    "your_prepared_input_row = [\n",
    "    9.4,  # CGPA\n",
    "    5,  # Job Role (mapped numerically, assuming '5' corresponds to Devops Engineer)\n",
    "    0,  # Internship Type_AIML\n",
    "    0,  # Internship Type_Cloud\n",
    "    0,  # Internship Type_Cybersecurity\n",
    "    1,  # Internship Type_DevOps\n",
    "    0,  # Internship Type_Software Dev\n",
    "    0,  # Internship Type_Web Dev\n",
    "    0,  # Programming Language_C#\n",
    "    0,  # Programming Language_C++\n",
    "    0,  # Programming Language_Go\n",
    "    0,  # Programming Language_Java\n",
    "    0,  # Programming Language_JavaScript\n",
    "    1,  # Programming Language_Python\n",
    "    0,  # Programming Language_R\n",
    "    0,  # Programming Language_Rust\n",
    "    0,  # Programming Language_SQL\n",
    "    0,  # Programming Language_TypeScript\n",
    "    0,  # Technology_AI\n",
    "    0,  # Technology_Backend\n",
    "    0,  # Technology_Big Data\n",
    "    0,  # Technology_Cloud Computing\n",
    "    0,  # Technology_Cybersecurity\n",
    "    0,  # Technology_DBMS\n",
    "    0,  # Technology_Data Analytics\n",
    "    1,  # Technology_DevOps\n",
    "    0,  # Technology_Front End\n",
    "    0,   # Technology_ML\n",
    "]\n",
    "\n",
    "# Create the DataFrame for user input\n",
    "user_input_df = pd.DataFrame([your_prepared_input_row], columns=feature_columns)\n",
    "\n",
    "# Assuming you have a trained model `Company_model` and a label encoder `Company_label`\n",
    "# Call the function to predict the top 3 companies\n",
    "top_3_companies = predict_top_companies(Company_model, user_input_df, Company_label)#TopN Default=3\n",
    "\n",
    "# Display the results\n",
    "for i, (company, prob) in enumerate(top_3_companies, start=1):\n",
    "    print(f\"Top {i}: {company} (Probability: {prob})\")\n"
   ]
  },
  {
   "cell_type": "code",
   "execution_count": 127,
   "id": "019a524c",
   "metadata": {},
   "outputs": [
    {
     "data": {
      "text/plain": [
       "['COMPANY_model.joblib']"
      ]
     },
     "execution_count": 127,
     "metadata": {},
     "output_type": "execute_result"
    }
   ],
   "source": [
    "import joblib\n",
    "\n",
    "joblib.dump(Company_model, 'COMPANY_model.joblib')\n"
   ]
  },
  {
   "cell_type": "code",
   "execution_count": 128,
   "id": "659c0e81",
   "metadata": {},
   "outputs": [
    {
     "data": {
      "text/plain": [
       "['COMPANY_label_encoder.joblib']"
      ]
     },
     "execution_count": 128,
     "metadata": {},
     "output_type": "execute_result"
    }
   ],
   "source": [
    "joblib.dump(Company_label, \"COMPANY_label_encoder.joblib\")"
   ]
  }
 ],
 "metadata": {
  "kernelspec": {
   "display_name": "Python 3",
   "language": "python",
   "name": "python3"
  },
  "language_info": {
   "codemirror_mode": {
    "name": "ipython",
    "version": 3
   },
   "file_extension": ".py",
   "mimetype": "text/x-python",
   "name": "python",
   "nbconvert_exporter": "python",
   "pygments_lexer": "ipython3",
   "version": "3.12.5"
  }
 },
 "nbformat": 4,
 "nbformat_minor": 5
}
