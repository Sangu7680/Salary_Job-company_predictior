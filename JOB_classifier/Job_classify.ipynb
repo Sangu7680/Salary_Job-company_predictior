{
 "cells": [
  {
   "cell_type": "code",
   "execution_count": 1,
   "id": "4ff25bb9",
   "metadata": {},
   "outputs": [],
   "source": [
    "import pandas as pd \n",
    "import numpy as np\n",
    "import matplotlib.pyplot as plt \n",
    "import seaborn\n"
   ]
  },
  {
   "cell_type": "code",
   "execution_count": 2,
   "id": "bc151ec9",
   "metadata": {},
   "outputs": [],
   "source": [
    "df=pd.read_csv(\"Balanced_2500_Row_Dataset.csv\")"
   ]
  },
  {
   "cell_type": "code",
   "execution_count": 3,
   "id": "a757b9b8",
   "metadata": {},
   "outputs": [
    {
     "data": {
      "text/html": [
       "<div>\n",
       "<style scoped>\n",
       "    .dataframe tbody tr th:only-of-type {\n",
       "        vertical-align: middle;\n",
       "    }\n",
       "\n",
       "    .dataframe tbody tr th {\n",
       "        vertical-align: top;\n",
       "    }\n",
       "\n",
       "    .dataframe thead th {\n",
       "        text-align: right;\n",
       "    }\n",
       "</style>\n",
       "<table border=\"1\" class=\"dataframe\">\n",
       "  <thead>\n",
       "    <tr style=\"text-align: right;\">\n",
       "      <th></th>\n",
       "      <th>CGPA</th>\n",
       "      <th>Internship Type</th>\n",
       "      <th>Programming Language</th>\n",
       "      <th>Technology</th>\n",
       "      <th>Company</th>\n",
       "      <th>Job Role</th>\n",
       "    </tr>\n",
       "  </thead>\n",
       "  <tbody>\n",
       "    <tr>\n",
       "      <th>0</th>\n",
       "      <td>7.5</td>\n",
       "      <td>Cloud</td>\n",
       "      <td>Python</td>\n",
       "      <td>DevOps</td>\n",
       "      <td>Infosys, TCS, Tech Mahindra</td>\n",
       "      <td>Cloud Engineer</td>\n",
       "    </tr>\n",
       "    <tr>\n",
       "      <th>1</th>\n",
       "      <td>9.8</td>\n",
       "      <td>Software Dev</td>\n",
       "      <td>C#</td>\n",
       "      <td>DBMS</td>\n",
       "      <td>Amazon, NVIDIA, Apple</td>\n",
       "      <td>Software Developer</td>\n",
       "    </tr>\n",
       "    <tr>\n",
       "      <th>2</th>\n",
       "      <td>8.9</td>\n",
       "      <td>Cybersecurity</td>\n",
       "      <td>C++</td>\n",
       "      <td>AI</td>\n",
       "      <td>TCS, SAP, IBM</td>\n",
       "      <td>Cybersecurity Engineer</td>\n",
       "    </tr>\n",
       "    <tr>\n",
       "      <th>3</th>\n",
       "      <td>8.4</td>\n",
       "      <td>AIML</td>\n",
       "      <td>Java</td>\n",
       "      <td>AI</td>\n",
       "      <td>Oracle, SAP, IBM</td>\n",
       "      <td>Data Scientist</td>\n",
       "    </tr>\n",
       "    <tr>\n",
       "      <th>4</th>\n",
       "      <td>6.6</td>\n",
       "      <td>Cybersecurity</td>\n",
       "      <td>Rust</td>\n",
       "      <td>Front End</td>\n",
       "      <td>NIIT Technologies, Birlasoft, Mphasis</td>\n",
       "      <td>Cloud Engineer</td>\n",
       "    </tr>\n",
       "    <tr>\n",
       "      <th>5</th>\n",
       "      <td>6.6</td>\n",
       "      <td>Software Dev</td>\n",
       "      <td>Java</td>\n",
       "      <td>Big Data</td>\n",
       "      <td>NIIT Technologies, Mindtree, Mphasis</td>\n",
       "      <td>Software Developer</td>\n",
       "    </tr>\n",
       "    <tr>\n",
       "      <th>6</th>\n",
       "      <td>6.2</td>\n",
       "      <td>Software Dev</td>\n",
       "      <td>Java</td>\n",
       "      <td>Backend</td>\n",
       "      <td>Mphasis, NIIT Technologies, Birlasoft</td>\n",
       "      <td>Software Developer</td>\n",
       "    </tr>\n",
       "    <tr>\n",
       "      <th>7</th>\n",
       "      <td>9.5</td>\n",
       "      <td>AIML</td>\n",
       "      <td>Java</td>\n",
       "      <td>AI</td>\n",
       "      <td>Apple, Microsoft, Amazon</td>\n",
       "      <td>Data Scientist</td>\n",
       "    </tr>\n",
       "    <tr>\n",
       "      <th>8</th>\n",
       "      <td>8.4</td>\n",
       "      <td>DevOps</td>\n",
       "      <td>TypeScript</td>\n",
       "      <td>Backend</td>\n",
       "      <td>Infosys, IBM, Oracle</td>\n",
       "      <td>System Engineer</td>\n",
       "    </tr>\n",
       "    <tr>\n",
       "      <th>9</th>\n",
       "      <td>8.8</td>\n",
       "      <td>Software Dev</td>\n",
       "      <td>Python</td>\n",
       "      <td>Data Analytics</td>\n",
       "      <td>SAP, TCS, Oracle</td>\n",
       "      <td>System Engineer</td>\n",
       "    </tr>\n",
       "  </tbody>\n",
       "</table>\n",
       "</div>"
      ],
      "text/plain": [
       "   CGPA Internship Type Programming Language      Technology  \\\n",
       "0   7.5           Cloud               Python          DevOps   \n",
       "1   9.8    Software Dev                   C#            DBMS   \n",
       "2   8.9   Cybersecurity                  C++              AI   \n",
       "3   8.4            AIML                 Java              AI   \n",
       "4   6.6   Cybersecurity                 Rust       Front End   \n",
       "5   6.6    Software Dev                 Java        Big Data   \n",
       "6   6.2    Software Dev                 Java         Backend   \n",
       "7   9.5            AIML                 Java              AI   \n",
       "8   8.4          DevOps           TypeScript         Backend   \n",
       "9   8.8    Software Dev               Python  Data Analytics   \n",
       "\n",
       "                                 Company                Job Role  \n",
       "0            Infosys, TCS, Tech Mahindra          Cloud Engineer  \n",
       "1                  Amazon, NVIDIA, Apple      Software Developer  \n",
       "2                          TCS, SAP, IBM  Cybersecurity Engineer  \n",
       "3                       Oracle, SAP, IBM          Data Scientist  \n",
       "4  NIIT Technologies, Birlasoft, Mphasis          Cloud Engineer  \n",
       "5   NIIT Technologies, Mindtree, Mphasis      Software Developer  \n",
       "6  Mphasis, NIIT Technologies, Birlasoft      Software Developer  \n",
       "7               Apple, Microsoft, Amazon          Data Scientist  \n",
       "8                   Infosys, IBM, Oracle         System Engineer  \n",
       "9                       SAP, TCS, Oracle         System Engineer  "
      ]
     },
     "execution_count": 3,
     "metadata": {},
     "output_type": "execute_result"
    }
   ],
   "source": [
    "df.head(10)"
   ]
  },
  {
   "cell_type": "code",
   "execution_count": 4,
   "id": "341d7982",
   "metadata": {},
   "outputs": [
    {
     "data": {
      "text/html": [
       "<div>\n",
       "<style scoped>\n",
       "    .dataframe tbody tr th:only-of-type {\n",
       "        vertical-align: middle;\n",
       "    }\n",
       "\n",
       "    .dataframe tbody tr th {\n",
       "        vertical-align: top;\n",
       "    }\n",
       "\n",
       "    .dataframe thead th {\n",
       "        text-align: right;\n",
       "    }\n",
       "</style>\n",
       "<table border=\"1\" class=\"dataframe\">\n",
       "  <thead>\n",
       "    <tr style=\"text-align: right;\">\n",
       "      <th></th>\n",
       "      <th>CGPA</th>\n",
       "      <th>Internship Type</th>\n",
       "      <th>Programming Language</th>\n",
       "      <th>Technology</th>\n",
       "      <th>Company</th>\n",
       "      <th>Job Role</th>\n",
       "    </tr>\n",
       "  </thead>\n",
       "  <tbody>\n",
       "    <tr>\n",
       "      <th>2491</th>\n",
       "      <td>6.8</td>\n",
       "      <td>DevOps</td>\n",
       "      <td>TypeScript</td>\n",
       "      <td>DevOps</td>\n",
       "      <td>NIIT Technologies, Mindtree, Mphasis</td>\n",
       "      <td>System Engineer</td>\n",
       "    </tr>\n",
       "    <tr>\n",
       "      <th>2492</th>\n",
       "      <td>9.0</td>\n",
       "      <td>Cloud</td>\n",
       "      <td>Go</td>\n",
       "      <td>Cloud Computing</td>\n",
       "      <td>Amazon, OpenAI, IBM</td>\n",
       "      <td>DevOps Engineer</td>\n",
       "    </tr>\n",
       "    <tr>\n",
       "      <th>2493</th>\n",
       "      <td>7.5</td>\n",
       "      <td>Cybersecurity</td>\n",
       "      <td>Rust</td>\n",
       "      <td>Front End</td>\n",
       "      <td>Cognizant, TCS, Tech Mahindra</td>\n",
       "      <td>Cybersecurity Engineer</td>\n",
       "    </tr>\n",
       "    <tr>\n",
       "      <th>2494</th>\n",
       "      <td>8.0</td>\n",
       "      <td>Cybersecurity</td>\n",
       "      <td>C++</td>\n",
       "      <td>AI</td>\n",
       "      <td>IBM, Infosys, Oracle</td>\n",
       "      <td>Cybersecurity Engineer</td>\n",
       "    </tr>\n",
       "    <tr>\n",
       "      <th>2495</th>\n",
       "      <td>8.0</td>\n",
       "      <td>Software Dev</td>\n",
       "      <td>C#</td>\n",
       "      <td>DBMS</td>\n",
       "      <td>IBM, Capgemini, Infosys</td>\n",
       "      <td>Software Developer</td>\n",
       "    </tr>\n",
       "    <tr>\n",
       "      <th>2496</th>\n",
       "      <td>8.3</td>\n",
       "      <td>Software Dev</td>\n",
       "      <td>C#</td>\n",
       "      <td>DBMS</td>\n",
       "      <td>TCS, IBM, SAP</td>\n",
       "      <td>Data Analyst</td>\n",
       "    </tr>\n",
       "    <tr>\n",
       "      <th>2497</th>\n",
       "      <td>9.5</td>\n",
       "      <td>Cybersecurity</td>\n",
       "      <td>Rust</td>\n",
       "      <td>Cybersecurity</td>\n",
       "      <td>NVIDIA, Amazon, IBM</td>\n",
       "      <td>Cybersecurity Engineer</td>\n",
       "    </tr>\n",
       "    <tr>\n",
       "      <th>2498</th>\n",
       "      <td>9.9</td>\n",
       "      <td>Web Dev</td>\n",
       "      <td>TypeScript</td>\n",
       "      <td>Front End</td>\n",
       "      <td>Microsoft, Amazon, IBM</td>\n",
       "      <td>Web Developer</td>\n",
       "    </tr>\n",
       "    <tr>\n",
       "      <th>2499</th>\n",
       "      <td>6.4</td>\n",
       "      <td>NaN</td>\n",
       "      <td>NaN</td>\n",
       "      <td>NaN</td>\n",
       "      <td>NaN</td>\n",
       "      <td>NaN</td>\n",
       "    </tr>\n",
       "    <tr>\n",
       "      <th>2500</th>\n",
       "      <td>7.6</td>\n",
       "      <td>DevOps</td>\n",
       "      <td>Go</td>\n",
       "      <td>DevOps</td>\n",
       "      <td>Tech Mahindra, Wipro, Cognizant</td>\n",
       "      <td>System Engineer</td>\n",
       "    </tr>\n",
       "  </tbody>\n",
       "</table>\n",
       "</div>"
      ],
      "text/plain": [
       "      CGPA Internship Type Programming Language       Technology  \\\n",
       "2491   6.8          DevOps           TypeScript           DevOps   \n",
       "2492   9.0           Cloud                   Go  Cloud Computing   \n",
       "2493   7.5   Cybersecurity                 Rust        Front End   \n",
       "2494   8.0   Cybersecurity                  C++               AI   \n",
       "2495   8.0    Software Dev                   C#             DBMS   \n",
       "2496   8.3    Software Dev                   C#             DBMS   \n",
       "2497   9.5   Cybersecurity                 Rust    Cybersecurity   \n",
       "2498   9.9         Web Dev           TypeScript        Front End   \n",
       "2499   6.4             NaN                  NaN              NaN   \n",
       "2500   7.6          DevOps                   Go           DevOps   \n",
       "\n",
       "                                   Company                Job Role  \n",
       "2491  NIIT Technologies, Mindtree, Mphasis         System Engineer  \n",
       "2492                   Amazon, OpenAI, IBM         DevOps Engineer  \n",
       "2493         Cognizant, TCS, Tech Mahindra  Cybersecurity Engineer  \n",
       "2494                  IBM, Infosys, Oracle  Cybersecurity Engineer  \n",
       "2495               IBM, Capgemini, Infosys      Software Developer  \n",
       "2496                         TCS, IBM, SAP            Data Analyst  \n",
       "2497                   NVIDIA, Amazon, IBM  Cybersecurity Engineer  \n",
       "2498                Microsoft, Amazon, IBM           Web Developer  \n",
       "2499                                   NaN                     NaN  \n",
       "2500       Tech Mahindra, Wipro, Cognizant         System Engineer  "
      ]
     },
     "execution_count": 4,
     "metadata": {},
     "output_type": "execute_result"
    }
   ],
   "source": [
    "df.tail(10)"
   ]
  },
  {
   "cell_type": "code",
   "execution_count": 5,
   "id": "5592adfe",
   "metadata": {},
   "outputs": [
    {
     "data": {
      "text/plain": [
       "Index(['CGPA', 'Internship Type', 'Programming Language', 'Technology',\n",
       "       'Company', 'Job Role'],\n",
       "      dtype='object')"
      ]
     },
     "execution_count": 5,
     "metadata": {},
     "output_type": "execute_result"
    }
   ],
   "source": [
    "df.columns"
   ]
  },
  {
   "cell_type": "code",
   "execution_count": 6,
   "id": "e7dd2a3b",
   "metadata": {},
   "outputs": [
    {
     "data": {
      "text/plain": [
       "(2501, 6)"
      ]
     },
     "execution_count": 6,
     "metadata": {},
     "output_type": "execute_result"
    }
   ],
   "source": [
    "df.shape"
   ]
  },
  {
   "cell_type": "code",
   "execution_count": 7,
   "id": "7cb4082a",
   "metadata": {},
   "outputs": [
    {
     "name": "stdout",
     "output_type": "stream",
     "text": [
      "<class 'pandas.core.frame.DataFrame'>\n",
      "RangeIndex: 2501 entries, 0 to 2500\n",
      "Data columns (total 6 columns):\n",
      " #   Column                Non-Null Count  Dtype  \n",
      "---  ------                --------------  -----  \n",
      " 0   CGPA                  2501 non-null   float64\n",
      " 1   Internship Type       2500 non-null   object \n",
      " 2   Programming Language  2500 non-null   object \n",
      " 3   Technology            2500 non-null   object \n",
      " 4   Company               2500 non-null   object \n",
      " 5   Job Role              2500 non-null   object \n",
      "dtypes: float64(1), object(5)\n",
      "memory usage: 117.4+ KB\n"
     ]
    }
   ],
   "source": [
    "df.info()#the columns are in the same datatype they have to be..."
   ]
  },
  {
   "cell_type": "code",
   "execution_count": 8,
   "id": "5db701be",
   "metadata": {},
   "outputs": [
    {
     "data": {
      "text/plain": [
       "CGPA                    0\n",
       "Internship Type         1\n",
       "Programming Language    1\n",
       "Technology              1\n",
       "Company                 1\n",
       "Job Role                1\n",
       "dtype: int64"
      ]
     },
     "execution_count": 8,
     "metadata": {},
     "output_type": "execute_result"
    }
   ],
   "source": [
    "df.isnull().sum()"
   ]
  },
  {
   "cell_type": "code",
   "execution_count": 9,
   "id": "29f47717",
   "metadata": {},
   "outputs": [],
   "source": [
    "df.dropna(inplace=True)"
   ]
  },
  {
   "cell_type": "code",
   "execution_count": 10,
   "id": "837ec7a3",
   "metadata": {},
   "outputs": [
    {
     "data": {
      "text/html": [
       "<div>\n",
       "<style scoped>\n",
       "    .dataframe tbody tr th:only-of-type {\n",
       "        vertical-align: middle;\n",
       "    }\n",
       "\n",
       "    .dataframe tbody tr th {\n",
       "        vertical-align: top;\n",
       "    }\n",
       "\n",
       "    .dataframe thead th {\n",
       "        text-align: right;\n",
       "    }\n",
       "</style>\n",
       "<table border=\"1\" class=\"dataframe\">\n",
       "  <thead>\n",
       "    <tr style=\"text-align: right;\">\n",
       "      <th></th>\n",
       "      <th>CGPA</th>\n",
       "      <th>Internship Type</th>\n",
       "      <th>Programming Language</th>\n",
       "      <th>Technology</th>\n",
       "      <th>Company</th>\n",
       "      <th>Job Role</th>\n",
       "    </tr>\n",
       "  </thead>\n",
       "  <tbody>\n",
       "    <tr>\n",
       "      <th>0</th>\n",
       "      <td>7.5</td>\n",
       "      <td>Cloud</td>\n",
       "      <td>Python</td>\n",
       "      <td>DevOps</td>\n",
       "      <td>Infosys, TCS, Tech Mahindra</td>\n",
       "      <td>Cloud Engineer</td>\n",
       "    </tr>\n",
       "    <tr>\n",
       "      <th>1</th>\n",
       "      <td>9.8</td>\n",
       "      <td>Software Dev</td>\n",
       "      <td>C#</td>\n",
       "      <td>DBMS</td>\n",
       "      <td>Amazon, NVIDIA, Apple</td>\n",
       "      <td>Software Developer</td>\n",
       "    </tr>\n",
       "    <tr>\n",
       "      <th>2</th>\n",
       "      <td>8.9</td>\n",
       "      <td>Cybersecurity</td>\n",
       "      <td>C++</td>\n",
       "      <td>AI</td>\n",
       "      <td>TCS, SAP, IBM</td>\n",
       "      <td>Cybersecurity Engineer</td>\n",
       "    </tr>\n",
       "    <tr>\n",
       "      <th>3</th>\n",
       "      <td>8.4</td>\n",
       "      <td>AIML</td>\n",
       "      <td>Java</td>\n",
       "      <td>AI</td>\n",
       "      <td>Oracle, SAP, IBM</td>\n",
       "      <td>Data Scientist</td>\n",
       "    </tr>\n",
       "    <tr>\n",
       "      <th>4</th>\n",
       "      <td>6.6</td>\n",
       "      <td>Cybersecurity</td>\n",
       "      <td>Rust</td>\n",
       "      <td>Front End</td>\n",
       "      <td>NIIT Technologies, Birlasoft, Mphasis</td>\n",
       "      <td>Cloud Engineer</td>\n",
       "    </tr>\n",
       "    <tr>\n",
       "      <th>...</th>\n",
       "      <td>...</td>\n",
       "      <td>...</td>\n",
       "      <td>...</td>\n",
       "      <td>...</td>\n",
       "      <td>...</td>\n",
       "      <td>...</td>\n",
       "    </tr>\n",
       "    <tr>\n",
       "      <th>2495</th>\n",
       "      <td>8.0</td>\n",
       "      <td>Software Dev</td>\n",
       "      <td>C#</td>\n",
       "      <td>DBMS</td>\n",
       "      <td>IBM, Capgemini, Infosys</td>\n",
       "      <td>Software Developer</td>\n",
       "    </tr>\n",
       "    <tr>\n",
       "      <th>2496</th>\n",
       "      <td>8.3</td>\n",
       "      <td>Software Dev</td>\n",
       "      <td>C#</td>\n",
       "      <td>DBMS</td>\n",
       "      <td>TCS, IBM, SAP</td>\n",
       "      <td>Data Analyst</td>\n",
       "    </tr>\n",
       "    <tr>\n",
       "      <th>2497</th>\n",
       "      <td>9.5</td>\n",
       "      <td>Cybersecurity</td>\n",
       "      <td>Rust</td>\n",
       "      <td>Cybersecurity</td>\n",
       "      <td>NVIDIA, Amazon, IBM</td>\n",
       "      <td>Cybersecurity Engineer</td>\n",
       "    </tr>\n",
       "    <tr>\n",
       "      <th>2498</th>\n",
       "      <td>9.9</td>\n",
       "      <td>Web Dev</td>\n",
       "      <td>TypeScript</td>\n",
       "      <td>Front End</td>\n",
       "      <td>Microsoft, Amazon, IBM</td>\n",
       "      <td>Web Developer</td>\n",
       "    </tr>\n",
       "    <tr>\n",
       "      <th>2500</th>\n",
       "      <td>7.6</td>\n",
       "      <td>DevOps</td>\n",
       "      <td>Go</td>\n",
       "      <td>DevOps</td>\n",
       "      <td>Tech Mahindra, Wipro, Cognizant</td>\n",
       "      <td>System Engineer</td>\n",
       "    </tr>\n",
       "  </tbody>\n",
       "</table>\n",
       "<p>2500 rows × 6 columns</p>\n",
       "</div>"
      ],
      "text/plain": [
       "      CGPA Internship Type Programming Language     Technology  \\\n",
       "0      7.5           Cloud               Python         DevOps   \n",
       "1      9.8    Software Dev                   C#           DBMS   \n",
       "2      8.9   Cybersecurity                  C++             AI   \n",
       "3      8.4            AIML                 Java             AI   \n",
       "4      6.6   Cybersecurity                 Rust      Front End   \n",
       "...    ...             ...                  ...            ...   \n",
       "2495   8.0    Software Dev                   C#           DBMS   \n",
       "2496   8.3    Software Dev                   C#           DBMS   \n",
       "2497   9.5   Cybersecurity                 Rust  Cybersecurity   \n",
       "2498   9.9         Web Dev           TypeScript      Front End   \n",
       "2500   7.6          DevOps                   Go         DevOps   \n",
       "\n",
       "                                    Company                Job Role  \n",
       "0               Infosys, TCS, Tech Mahindra          Cloud Engineer  \n",
       "1                     Amazon, NVIDIA, Apple      Software Developer  \n",
       "2                             TCS, SAP, IBM  Cybersecurity Engineer  \n",
       "3                          Oracle, SAP, IBM          Data Scientist  \n",
       "4     NIIT Technologies, Birlasoft, Mphasis          Cloud Engineer  \n",
       "...                                     ...                     ...  \n",
       "2495                IBM, Capgemini, Infosys      Software Developer  \n",
       "2496                          TCS, IBM, SAP            Data Analyst  \n",
       "2497                    NVIDIA, Amazon, IBM  Cybersecurity Engineer  \n",
       "2498                 Microsoft, Amazon, IBM           Web Developer  \n",
       "2500        Tech Mahindra, Wipro, Cognizant         System Engineer  \n",
       "\n",
       "[2500 rows x 6 columns]"
      ]
     },
     "execution_count": 10,
     "metadata": {},
     "output_type": "execute_result"
    }
   ],
   "source": [
    "df"
   ]
  },
  {
   "cell_type": "code",
   "execution_count": 11,
   "id": "543169e8",
   "metadata": {},
   "outputs": [
    {
     "data": {
      "text/plain": [
       "11"
      ]
     },
     "execution_count": 11,
     "metadata": {},
     "output_type": "execute_result"
    }
   ],
   "source": [
    "df.duplicated().sum()"
   ]
  },
  {
   "cell_type": "code",
   "execution_count": 12,
   "id": "ca162a65",
   "metadata": {},
   "outputs": [
    {
     "data": {
      "text/plain": [
       "0"
      ]
     },
     "execution_count": 12,
     "metadata": {},
     "output_type": "execute_result"
    }
   ],
   "source": [
    "df=df.drop_duplicates()\n",
    "df.duplicated().sum()"
   ]
  },
  {
   "cell_type": "code",
   "execution_count": 13,
   "id": "ca8f6773",
   "metadata": {},
   "outputs": [
    {
     "data": {
      "text/plain": [
       "Job Role\n",
       "DevOps Engineer           358\n",
       "Cloud Engineer            357\n",
       "System Engineer           344\n",
       "Software Developer        299\n",
       "Data Scientist            297\n",
       "Cybersecurity Engineer    278\n",
       "Web Developer             262\n",
       "Data Analyst              190\n",
       "AI Engineer               104\n",
       "Name: count, dtype: int64"
      ]
     },
     "execution_count": 13,
     "metadata": {},
     "output_type": "execute_result"
    }
   ],
   "source": [
    "df[\"Internship Type\"].value_counts()\n",
    "df[\"Programming Language\"].value_counts()\n",
    "df[\"Job Role\"].value_counts()\n",
    "# df[\"Company\"].value_counts()\n",
    "# df[\"Technology\"].value_counts()"
   ]
  },
  {
   "cell_type": "code",
   "execution_count": 14,
   "id": "131310e8",
   "metadata": {},
   "outputs": [
    {
     "data": {
      "text/plain": [
       "10"
      ]
     },
     "execution_count": 14,
     "metadata": {},
     "output_type": "execute_result"
    }
   ],
   "source": [
    "len(df[\"CGPA\"].unique())\n",
    "len(df[\"Internship Type\"].unique())\n",
    "len(df[\"Programming Language\"].unique())\n",
    "# len(df[\"Job Role\"].unique())\n",
    "len(df[\"Technology\"].unique())\n"
   ]
  },
  {
   "cell_type": "code",
   "execution_count": 15,
   "id": "c4f30c73",
   "metadata": {},
   "outputs": [
    {
     "data": {
      "text/plain": [
       "array(['Cloud Engineer', 'Software Developer', 'Cybersecurity Engineer',\n",
       "       'Data Scientist', 'System Engineer', 'DevOps Engineer',\n",
       "       'AI Engineer', 'Web Developer', 'Data Analyst'], dtype=object)"
      ]
     },
     "execution_count": 15,
     "metadata": {},
     "output_type": "execute_result"
    }
   ],
   "source": [
    "df[\"Job Role\"].unique()\n",
    "# df[\"Programming Language\"].unique()"
   ]
  },
  {
   "cell_type": "code",
   "execution_count": 16,
   "id": "fe6cb160",
   "metadata": {},
   "outputs": [],
   "source": [
    "# df[\"CGPA\"]=pd.to_numeric(df[\"CGPA\"],errors=\"coerce\").astype(float)"
   ]
  },
  {
   "cell_type": "code",
   "execution_count": 17,
   "id": "35bebc4b",
   "metadata": {},
   "outputs": [
    {
     "data": {
      "text/html": [
       "<div>\n",
       "<style scoped>\n",
       "    .dataframe tbody tr th:only-of-type {\n",
       "        vertical-align: middle;\n",
       "    }\n",
       "\n",
       "    .dataframe tbody tr th {\n",
       "        vertical-align: top;\n",
       "    }\n",
       "\n",
       "    .dataframe thead th {\n",
       "        text-align: right;\n",
       "    }\n",
       "</style>\n",
       "<table border=\"1\" class=\"dataframe\">\n",
       "  <thead>\n",
       "    <tr style=\"text-align: right;\">\n",
       "      <th></th>\n",
       "      <th>CGPA</th>\n",
       "    </tr>\n",
       "  </thead>\n",
       "  <tbody>\n",
       "    <tr>\n",
       "      <th>count</th>\n",
       "      <td>2489.000000</td>\n",
       "    </tr>\n",
       "    <tr>\n",
       "      <th>mean</th>\n",
       "      <td>7.997951</td>\n",
       "    </tr>\n",
       "    <tr>\n",
       "      <th>std</th>\n",
       "      <td>1.165411</td>\n",
       "    </tr>\n",
       "    <tr>\n",
       "      <th>min</th>\n",
       "      <td>6.000000</td>\n",
       "    </tr>\n",
       "    <tr>\n",
       "      <th>25%</th>\n",
       "      <td>7.000000</td>\n",
       "    </tr>\n",
       "    <tr>\n",
       "      <th>50%</th>\n",
       "      <td>8.000000</td>\n",
       "    </tr>\n",
       "    <tr>\n",
       "      <th>75%</th>\n",
       "      <td>9.000000</td>\n",
       "    </tr>\n",
       "    <tr>\n",
       "      <th>max</th>\n",
       "      <td>10.000000</td>\n",
       "    </tr>\n",
       "  </tbody>\n",
       "</table>\n",
       "</div>"
      ],
      "text/plain": [
       "              CGPA\n",
       "count  2489.000000\n",
       "mean      7.997951\n",
       "std       1.165411\n",
       "min       6.000000\n",
       "25%       7.000000\n",
       "50%       8.000000\n",
       "75%       9.000000\n",
       "max      10.000000"
      ]
     },
     "execution_count": 17,
     "metadata": {},
     "output_type": "execute_result"
    }
   ],
   "source": [
    "df.describe() #There are no outliers from checking by IQR method of lowebound and upperbound"
   ]
  },
  {
   "cell_type": "code",
   "execution_count": 18,
   "id": "f17e27bd",
   "metadata": {},
   "outputs": [
    {
     "data": {
      "text/html": [
       "<div>\n",
       "<style scoped>\n",
       "    .dataframe tbody tr th:only-of-type {\n",
       "        vertical-align: middle;\n",
       "    }\n",
       "\n",
       "    .dataframe tbody tr th {\n",
       "        vertical-align: top;\n",
       "    }\n",
       "\n",
       "    .dataframe thead th {\n",
       "        text-align: right;\n",
       "    }\n",
       "</style>\n",
       "<table border=\"1\" class=\"dataframe\">\n",
       "  <thead>\n",
       "    <tr style=\"text-align: right;\">\n",
       "      <th></th>\n",
       "      <th>CGPA</th>\n",
       "      <th>Internship Type</th>\n",
       "      <th>Programming Language</th>\n",
       "      <th>Technology</th>\n",
       "      <th>Company</th>\n",
       "      <th>Job Role</th>\n",
       "    </tr>\n",
       "  </thead>\n",
       "  <tbody>\n",
       "    <tr>\n",
       "      <th>0</th>\n",
       "      <td>7.5</td>\n",
       "      <td>Cloud</td>\n",
       "      <td>Python</td>\n",
       "      <td>DevOps</td>\n",
       "      <td>Infosys, TCS, Tech Mahindra</td>\n",
       "      <td>Cloud Engineer</td>\n",
       "    </tr>\n",
       "    <tr>\n",
       "      <th>1</th>\n",
       "      <td>9.8</td>\n",
       "      <td>Software Dev</td>\n",
       "      <td>C#</td>\n",
       "      <td>DBMS</td>\n",
       "      <td>Amazon, NVIDIA, Apple</td>\n",
       "      <td>Software Developer</td>\n",
       "    </tr>\n",
       "    <tr>\n",
       "      <th>2</th>\n",
       "      <td>8.9</td>\n",
       "      <td>Cybersecurity</td>\n",
       "      <td>C++</td>\n",
       "      <td>AI</td>\n",
       "      <td>TCS, SAP, IBM</td>\n",
       "      <td>Cybersecurity Engineer</td>\n",
       "    </tr>\n",
       "    <tr>\n",
       "      <th>3</th>\n",
       "      <td>8.4</td>\n",
       "      <td>AIML</td>\n",
       "      <td>Java</td>\n",
       "      <td>AI</td>\n",
       "      <td>Oracle, SAP, IBM</td>\n",
       "      <td>Data Scientist</td>\n",
       "    </tr>\n",
       "    <tr>\n",
       "      <th>4</th>\n",
       "      <td>6.6</td>\n",
       "      <td>Cybersecurity</td>\n",
       "      <td>Rust</td>\n",
       "      <td>Front End</td>\n",
       "      <td>NIIT Technologies, Birlasoft, Mphasis</td>\n",
       "      <td>Cloud Engineer</td>\n",
       "    </tr>\n",
       "    <tr>\n",
       "      <th>...</th>\n",
       "      <td>...</td>\n",
       "      <td>...</td>\n",
       "      <td>...</td>\n",
       "      <td>...</td>\n",
       "      <td>...</td>\n",
       "      <td>...</td>\n",
       "    </tr>\n",
       "    <tr>\n",
       "      <th>2495</th>\n",
       "      <td>8.0</td>\n",
       "      <td>Software Dev</td>\n",
       "      <td>C#</td>\n",
       "      <td>DBMS</td>\n",
       "      <td>IBM, Capgemini, Infosys</td>\n",
       "      <td>Software Developer</td>\n",
       "    </tr>\n",
       "    <tr>\n",
       "      <th>2496</th>\n",
       "      <td>8.3</td>\n",
       "      <td>Software Dev</td>\n",
       "      <td>C#</td>\n",
       "      <td>DBMS</td>\n",
       "      <td>TCS, IBM, SAP</td>\n",
       "      <td>Data Analyst</td>\n",
       "    </tr>\n",
       "    <tr>\n",
       "      <th>2497</th>\n",
       "      <td>9.5</td>\n",
       "      <td>Cybersecurity</td>\n",
       "      <td>Rust</td>\n",
       "      <td>Cybersecurity</td>\n",
       "      <td>NVIDIA, Amazon, IBM</td>\n",
       "      <td>Cybersecurity Engineer</td>\n",
       "    </tr>\n",
       "    <tr>\n",
       "      <th>2498</th>\n",
       "      <td>9.9</td>\n",
       "      <td>Web Dev</td>\n",
       "      <td>TypeScript</td>\n",
       "      <td>Front End</td>\n",
       "      <td>Microsoft, Amazon, IBM</td>\n",
       "      <td>Web Developer</td>\n",
       "    </tr>\n",
       "    <tr>\n",
       "      <th>2500</th>\n",
       "      <td>7.6</td>\n",
       "      <td>DevOps</td>\n",
       "      <td>Go</td>\n",
       "      <td>DevOps</td>\n",
       "      <td>Tech Mahindra, Wipro, Cognizant</td>\n",
       "      <td>System Engineer</td>\n",
       "    </tr>\n",
       "  </tbody>\n",
       "</table>\n",
       "<p>2489 rows × 6 columns</p>\n",
       "</div>"
      ],
      "text/plain": [
       "      CGPA Internship Type Programming Language     Technology  \\\n",
       "0      7.5           Cloud               Python         DevOps   \n",
       "1      9.8    Software Dev                   C#           DBMS   \n",
       "2      8.9   Cybersecurity                  C++             AI   \n",
       "3      8.4            AIML                 Java             AI   \n",
       "4      6.6   Cybersecurity                 Rust      Front End   \n",
       "...    ...             ...                  ...            ...   \n",
       "2495   8.0    Software Dev                   C#           DBMS   \n",
       "2496   8.3    Software Dev                   C#           DBMS   \n",
       "2497   9.5   Cybersecurity                 Rust  Cybersecurity   \n",
       "2498   9.9         Web Dev           TypeScript      Front End   \n",
       "2500   7.6          DevOps                   Go         DevOps   \n",
       "\n",
       "                                    Company                Job Role  \n",
       "0               Infosys, TCS, Tech Mahindra          Cloud Engineer  \n",
       "1                     Amazon, NVIDIA, Apple      Software Developer  \n",
       "2                             TCS, SAP, IBM  Cybersecurity Engineer  \n",
       "3                          Oracle, SAP, IBM          Data Scientist  \n",
       "4     NIIT Technologies, Birlasoft, Mphasis          Cloud Engineer  \n",
       "...                                     ...                     ...  \n",
       "2495                IBM, Capgemini, Infosys      Software Developer  \n",
       "2496                          TCS, IBM, SAP            Data Analyst  \n",
       "2497                    NVIDIA, Amazon, IBM  Cybersecurity Engineer  \n",
       "2498                 Microsoft, Amazon, IBM           Web Developer  \n",
       "2500        Tech Mahindra, Wipro, Cognizant         System Engineer  \n",
       "\n",
       "[2489 rows x 6 columns]"
      ]
     },
     "execution_count": 18,
     "metadata": {},
     "output_type": "execute_result"
    }
   ],
   "source": [
    "df"
   ]
  },
  {
   "cell_type": "code",
   "execution_count": 19,
   "id": "c92d0f1b",
   "metadata": {},
   "outputs": [
    {
     "data": {
      "text/plain": [
       "Index(['CGPA', 'Internship Type', 'Programming Language', 'Technology',\n",
       "       'Company', 'Job Role'],\n",
       "      dtype='object')"
      ]
     },
     "execution_count": 19,
     "metadata": {},
     "output_type": "execute_result"
    }
   ],
   "source": [
    "df.columns"
   ]
  },
  {
   "cell_type": "code",
   "execution_count": 20,
   "id": "02dd3a61",
   "metadata": {},
   "outputs": [
    {
     "name": "stdout",
     "output_type": "stream",
     "text": [
      "<class 'pandas.core.frame.DataFrame'>\n",
      "Index: 2489 entries, 0 to 2500\n",
      "Data columns (total 29 columns):\n",
      " #   Column                           Non-Null Count  Dtype  \n",
      "---  ------                           --------------  -----  \n",
      " 0   CGPA                             2489 non-null   float64\n",
      " 1   Company                          2489 non-null   object \n",
      " 2   Job Role                         2489 non-null   object \n",
      " 3   Internship Type_AIML             2489 non-null   bool   \n",
      " 4   Internship Type_Cloud            2489 non-null   bool   \n",
      " 5   Internship Type_Cybersecurity    2489 non-null   bool   \n",
      " 6   Internship Type_DevOps           2489 non-null   bool   \n",
      " 7   Internship Type_Software Dev     2489 non-null   bool   \n",
      " 8   Internship Type_Web Dev          2489 non-null   bool   \n",
      " 9   Programming Language_C#          2489 non-null   bool   \n",
      " 10  Programming Language_C++         2489 non-null   bool   \n",
      " 11  Programming Language_Go          2489 non-null   bool   \n",
      " 12  Programming Language_Java        2489 non-null   bool   \n",
      " 13  Programming Language_JavaScript  2489 non-null   bool   \n",
      " 14  Programming Language_Python      2489 non-null   bool   \n",
      " 15  Programming Language_R           2489 non-null   bool   \n",
      " 16  Programming Language_Rust        2489 non-null   bool   \n",
      " 17  Programming Language_SQL         2489 non-null   bool   \n",
      " 18  Programming Language_TypeScript  2489 non-null   bool   \n",
      " 19  Technology_AI                    2489 non-null   bool   \n",
      " 20  Technology_Backend               2489 non-null   bool   \n",
      " 21  Technology_Big Data              2489 non-null   bool   \n",
      " 22  Technology_Cloud Computing       2489 non-null   bool   \n",
      " 23  Technology_Cybersecurity         2489 non-null   bool   \n",
      " 24  Technology_DBMS                  2489 non-null   bool   \n",
      " 25  Technology_Data Analytics        2489 non-null   bool   \n",
      " 26  Technology_DevOps                2489 non-null   bool   \n",
      " 27  Technology_Front End             2489 non-null   bool   \n",
      " 28  Technology_ML                    2489 non-null   bool   \n",
      "dtypes: bool(26), float64(1), object(2)\n",
      "memory usage: 141.0+ KB\n"
     ]
    }
   ],
   "source": [
    "df=pd.get_dummies(df,columns=[\"Internship Type\",\"Programming Language\",\"Technology\"])#.astype(int)\n",
    "df\n",
    "df.info()"
   ]
  },
  {
   "cell_type": "code",
   "execution_count": 21,
   "id": "66db3f99",
   "metadata": {},
   "outputs": [],
   "source": [
    "df= df.astype({col: int for col in df.columns if df[col].dtype == 'bool'})\n",
    "\n"
   ]
  },
  {
   "cell_type": "code",
   "execution_count": 22,
   "id": "ffdd5aab",
   "metadata": {},
   "outputs": [],
   "source": [
    "from sklearn.preprocessing import LabelEncoder"
   ]
  },
  {
   "cell_type": "code",
   "execution_count": 23,
   "id": "33e217b0",
   "metadata": {},
   "outputs": [],
   "source": [
    "label=LabelEncoder()\n",
    "df[\"Job Role\"]=label.fit_transform(df[\"Job Role\"])\n",
    "# df"
   ]
  },
  {
   "cell_type": "code",
   "execution_count": 24,
   "id": "82f2be66",
   "metadata": {},
   "outputs": [
    {
     "name": "stdout",
     "output_type": "stream",
     "text": [
      "0: AI Engineer\n",
      "1: Cloud Engineer\n",
      "2: Cybersecurity Engineer\n",
      "3: Data Analyst\n",
      "4: Data Scientist\n",
      "5: DevOps Engineer\n",
      "6: Software Developer\n",
      "7: System Engineer\n",
      "8: Web Developer\n"
     ]
    }
   ],
   "source": [
    "for index, class_label in enumerate(label.classes_):\n",
    "    print(f\"{index}: {class_label}\")\n"
   ]
  },
  {
   "cell_type": "code",
   "execution_count": 25,
   "id": "a290b9a0",
   "metadata": {},
   "outputs": [],
   "source": [
    "\n",
    "# from sklearn.preprocessing import MinMaxScaler\n",
    "# scaler = MinMaxScaler()\n",
    "# df[\"CGPA\"] = scaler.fit_transform(df[[\"CGPA\"]])\n"
   ]
  },
  {
   "cell_type": "code",
   "execution_count": 26,
   "id": "8817a3a7",
   "metadata": {},
   "outputs": [],
   "source": [
    "x=df.drop([\"Company\",\"Job Role\"],axis=1)\n",
    "y=df[\"Job Role\"]"
   ]
  },
  {
   "cell_type": "code",
   "execution_count": 27,
   "id": "d5740418",
   "metadata": {},
   "outputs": [],
   "source": [
    "from sklearn.model_selection import train_test_split"
   ]
  },
  {
   "cell_type": "code",
   "execution_count": 28,
   "id": "52dfb3fc",
   "metadata": {},
   "outputs": [],
   "source": [
    "x_train,x_test,y_train,y_test=train_test_split(x,y,test_size=0.3,random_state=42)"
   ]
  },
  {
   "cell_type": "code",
   "execution_count": 29,
   "id": "af1ee70f",
   "metadata": {},
   "outputs": [
    {
     "name": "stdout",
     "output_type": "stream",
     "text": [
      "1742 1742\n"
     ]
    }
   ],
   "source": [
    "print(len(x_train),len(y_train))"
   ]
  },
  {
   "cell_type": "code",
   "execution_count": 30,
   "id": "cf8ea82c",
   "metadata": {},
   "outputs": [
    {
     "name": "stdout",
     "output_type": "stream",
     "text": [
      "747 747\n"
     ]
    }
   ],
   "source": [
    "print(len(x_test),len(y_test))"
   ]
  },
  {
   "cell_type": "code",
   "execution_count": 31,
   "id": "6282d821",
   "metadata": {},
   "outputs": [
    {
     "name": "stdout",
     "output_type": "stream",
     "text": [
      "Train Score 0.6010332950631458\n",
      "Test Score 0.5957161981258366\n"
     ]
    }
   ],
   "source": [
    "from sklearn.linear_model import LogisticRegression\n",
    "model=LogisticRegression(max_iter=300,C=0.1,penalty=\"l2\")\n",
    "model.fit(x_train,y_train)\n",
    "print(\"Train Score\",model.score(x_train,y_train))\n",
    "print(\"Test Score\",model.score(x_test,y_test))"
   ]
  },
  {
   "cell_type": "code",
   "execution_count": 32,
   "id": "5ccc6ad5",
   "metadata": {},
   "outputs": [
    {
     "name": "stdout",
     "output_type": "stream",
     "text": [
      "Train Score: 0.78300803673938\n",
      "Test Score: 0.5381526104417671\n"
     ]
    }
   ],
   "source": [
    "from sklearn.ensemble import RandomForestClassifier\n",
    "model1= RandomForestClassifier(max_depth=10, n_estimators=1000, random_state=42)\n",
    "model1.fit(x_train, y_train)\n",
    "\n",
    "print(\"Train Score:\", model1.score(x_train, y_train))\n",
    "print(\"Test Score:\", model1.score(x_test, y_test))\n",
    "\n",
    "# model.score(x_test,y_test)"
   ]
  },
  {
   "cell_type": "code",
   "execution_count": 33,
   "id": "3e1f45e0",
   "metadata": {},
   "outputs": [
    {
     "name": "stdout",
     "output_type": "stream",
     "text": [
      "Train Accuracy: 0.6010332950631458\n",
      "Test Accuracy: 0.5957161981258366\n",
      "\n",
      "Classification Report on Test Data:\n",
      "              precision    recall  f1-score   support\n",
      "\n",
      "           0       0.47      0.24      0.32        29\n",
      "           1       0.55      0.32      0.40       116\n",
      "           2       0.64      1.00      0.78        89\n",
      "           3       0.44      1.00      0.61        59\n",
      "           4       0.78      0.91      0.84        87\n",
      "           5       0.51      0.27      0.36       106\n",
      "           6       0.75      0.03      0.07        87\n",
      "           7       0.60      0.70      0.65       102\n",
      "           8       0.63      0.99      0.77        72\n",
      "\n",
      "    accuracy                           0.60       747\n",
      "   macro avg       0.60      0.61      0.53       747\n",
      "weighted avg       0.61      0.60      0.53       747\n",
      "\n"
     ]
    }
   ],
   "source": [
    "#Lets Use Logistic Regression Algorithm bcs it is giving High Test Score \n",
    "from sklearn.metrics import classification_report, accuracy_score\n",
    "\n",
    "y_pred_train = model.predict(x_train)\n",
    "y_pred_test = model.predict(x_test)\n",
    "\n",
    "print(\"Train Accuracy:\", accuracy_score(y_train, y_pred_train))\n",
    "print(\"Test Accuracy:\", accuracy_score(y_test, y_pred_test))\n",
    "print(\"\\nClassification Report on Test Data:\")\n",
    "print(classification_report(y_test, y_pred_test))\n"
   ]
  },
  {
   "cell_type": "code",
   "execution_count": 34,
   "id": "d3cabd64",
   "metadata": {},
   "outputs": [
    {
     "data": {
      "text/plain": [
       "Index(['CGPA', 'Internship Type_AIML', 'Internship Type_Cloud',\n",
       "       'Internship Type_Cybersecurity', 'Internship Type_DevOps',\n",
       "       'Internship Type_Software Dev', 'Internship Type_Web Dev',\n",
       "       'Programming Language_C#', 'Programming Language_C++',\n",
       "       'Programming Language_Go', 'Programming Language_Java',\n",
       "       'Programming Language_JavaScript', 'Programming Language_Python',\n",
       "       'Programming Language_R', 'Programming Language_Rust',\n",
       "       'Programming Language_SQL', 'Programming Language_TypeScript',\n",
       "       'Technology_AI', 'Technology_Backend', 'Technology_Big Data',\n",
       "       'Technology_Cloud Computing', 'Technology_Cybersecurity',\n",
       "       'Technology_DBMS', 'Technology_Data Analytics', 'Technology_DevOps',\n",
       "       'Technology_Front End', 'Technology_ML'],\n",
       "      dtype='object')"
      ]
     },
     "execution_count": 34,
     "metadata": {},
     "output_type": "execute_result"
    }
   ],
   "source": [
    "x.columns"
   ]
  },
  {
   "cell_type": "code",
   "execution_count": 35,
   "id": "6b896ee5",
   "metadata": {},
   "outputs": [
    {
     "name": "stdout",
     "output_type": "stream",
     "text": [
      "5:DevOps Engineer\n",
      "5\n"
     ]
    },
    {
     "name": "stderr",
     "output_type": "stream",
     "text": [
      "c:\\Users\\sanga\\AppData\\Local\\Programs\\Python\\Python312\\Lib\\site-packages\\sklearn\\base.py:493: UserWarning: X does not have valid feature names, but LogisticRegression was fitted with feature names\n",
      "  warnings.warn(\n"
     ]
    }
   ],
   "source": [
    "prediction=model.predict([[9.4,0,1,0,0,0,0,0,0,0,0,0,1,0,0,0,0,0,0,0,0,0,0,0,1,0,0]])\n",
    "for index, class_label in enumerate(label.classes_):\n",
    "    if(prediction[0]==index):\n",
    "        print(f\"{index}:{class_label}\")\n",
    "\n",
    "print(prediction[0])"
   ]
  },
  {
   "cell_type": "code",
   "execution_count": 36,
   "id": "a962529e",
   "metadata": {},
   "outputs": [
    {
     "data": {
      "text/plain": [
       "['JOB_label_encoder.joblib']"
      ]
     },
     "execution_count": 36,
     "metadata": {},
     "output_type": "execute_result"
    }
   ],
   "source": [
    "import joblib\n",
    "\n",
    "joblib.dump(model, 'JOB_model.joblib')\n",
    "joblib.dump(label, \"JOB_label_encoder.joblib\")\n"
   ]
  },
  {
   "cell_type": "code",
   "execution_count": 37,
   "id": "f8698ade",
   "metadata": {},
   "outputs": [
    {
     "name": "stdout",
     "output_type": "stream",
     "text": [
      "Predicted Company: DevOps Engineer\n",
      "Encoded Prediction: 5\n"
     ]
    }
   ],
   "source": [
    "\n",
    "# Load the model and label encoder\n",
    "model = joblib.load(\"JOB_model.joblib\")\n",
    "label = joblib.load(\"JOB_label_encoder.joblib\")  \n",
    "\n",
    "# Define the input using the correct column names\n",
    "input_data = pd.DataFrame([{\n",
    "    'CGPA': 9.4,\n",
    "    'Internship Type_AIML': 0,\n",
    "    'Internship Type_Cloud': 1,\n",
    "    'Internship Type_Cybersecurity': 0,\n",
    "    'Internship Type_DevOps': 0,\n",
    "    'Internship Type_Software Dev': 0,\n",
    "    'Internship Type_Web Dev': 0,\n",
    "    'Programming Language_C#': 0,\n",
    "    'Programming Language_C++': 0,\n",
    "    'Programming Language_Go': 0,\n",
    "    'Programming Language_Java': 0,\n",
    "    'Programming Language_JavaScript': 0,\n",
    "    'Programming Language_Python': 1,\n",
    "    'Programming Language_R': 0,\n",
    "    'Programming Language_Rust': 0,\n",
    "    'Programming Language_SQL': 0,\n",
    "    'Programming Language_TypeScript': 0,\n",
    "    'Technology_AI': 0,\n",
    "    'Technology_Backend': 0,\n",
    "    'Technology_Big Data': 0,\n",
    "    'Technology_Cloud Computing': 0,\n",
    "    'Technology_Cybersecurity': 0,\n",
    "    'Technology_DBMS': 0,\n",
    "    'Technology_Data Analytics': 0,\n",
    "    'Technology_DevOps': 1,\n",
    "    'Technology_Front End': 0,\n",
    "    'Technology_ML': 0\n",
    "}])\n",
    "\n",
    "# Predict the encoded label\n",
    "prediction = model.predict(input_data)\n",
    "\n",
    "# Print the predicted label name\n",
    "predicted_company = label.inverse_transform(prediction)[0]\n",
    "print(f\"Predicted Company: {predicted_company}\")\n",
    "print(f\"Encoded Prediction: {prediction[0]}\")\n"
   ]
  }
 ],
 "metadata": {
  "kernelspec": {
   "display_name": "Python 3",
   "language": "python",
   "name": "python3"
  },
  "language_info": {
   "codemirror_mode": {
    "name": "ipython",
    "version": 3
   },
   "file_extension": ".py",
   "mimetype": "text/x-python",
   "name": "python",
   "nbconvert_exporter": "python",
   "pygments_lexer": "ipython3",
   "version": "3.12.5"
  }
 },
 "nbformat": 4,
 "nbformat_minor": 5
}
